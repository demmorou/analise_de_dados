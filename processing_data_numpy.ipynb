{
  "nbformat": 4,
  "nbformat_minor": 0,
  "metadata": {
    "colab": {
      "name": "processing_data_numpy.ipynb",
      "provenance": [],
      "collapsed_sections": [],
      "toc_visible": true,
      "include_colab_link": true
    },
    "kernelspec": {
      "name": "python3",
      "display_name": "Python 3"
    }
  },
  "cells": [
    {
      "cell_type": "markdown",
      "metadata": {
        "id": "view-in-github",
        "colab_type": "text"
      },
      "source": [
        "<a href=\"https://colab.research.google.com/github/deusimardamiao/analise_de_dados/blob/master/processing_data_numpy.ipynb\" target=\"_parent\"><img src=\"https://colab.research.google.com/assets/colab-badge.svg\" alt=\"Open In Colab\"/></a>"
      ]
    },
    {
      "cell_type": "code",
      "metadata": {
        "id": "adzdvSgTbbXH",
        "colab_type": "code",
        "colab": {}
      },
      "source": [
        "from google.colab import drive, files\n",
        "drive.mount('/content/gdrive', force_remount=True)"
      ],
      "execution_count": 0,
      "outputs": []
    },
    {
      "cell_type": "markdown",
      "metadata": {
        "id": "KP36bBE1b9n0",
        "colab_type": "text"
      },
      "source": [
        "# **Análise de Dados com Python: Tratando dados com Pandas, NumPy e IPython**"
      ]
    },
    {
      "cell_type": "markdown",
      "metadata": {
        "id": "khvCWbq0cjZ4",
        "colab_type": "text"
      },
      "source": [
        "## Trabalhando com NumPy\n",
        "\n",
        "---\n",
        "\n"
      ]
    },
    {
      "cell_type": "markdown",
      "metadata": {
        "id": "u85O8FwmgzZh",
        "colab_type": "text"
      },
      "source": [
        "Opreações básicas"
      ]
    },
    {
      "cell_type": "code",
      "metadata": {
        "id": "_aYDsRQ-buzN",
        "colab_type": "code",
        "colab": {}
      },
      "source": [
        "import numpy as np\n",
        "\n",
        "data = np.loadtxt(fname='/content/gdrive/My Drive/Colab Notebooks/dataset/inflammation-01.csv', delimiter=',')\n",
        "\n",
        "# ver os dados\n",
        "print(data)\n",
        "\n",
        "# tipo\n",
        "print('Tipo: ', type(data))\n",
        "\n",
        "# dimensões\n",
        "print('Dimensão:', data.shape)\n",
        "\n",
        "# ver primeiro valor\n",
        "print ('primeiro valor:', data[0, 0])\n",
        "\n",
        "# Intervalo da linha 0 até a linha 3 e da coluna 0 até a coluna 9\n",
        "print (data[0:4, 0:10])\n",
        "\n",
        "# Intervalo com passo\n",
        "# mostra 10 primeiras linhas com passo 3 (linhas 0, 3, 6 e 9)\n",
        "# mostra 10 primeiras colunas com passo 2 (colunas 0, 2, 4 e 6, 8 e 10)\n",
        "print (data[0:10:3, 0:10:2])"
      ],
      "execution_count": 0,
      "outputs": []
    },
    {
      "cell_type": "markdown",
      "metadata": {
        "id": "R_0rrdCKg5QR",
        "colab_type": "text"
      },
      "source": [
        "Aplicando cálculos sobre os dados"
      ]
    },
    {
      "cell_type": "code",
      "metadata": {
        "id": "ybjrd79keWzh",
        "colab_type": "code",
        "colab": {}
      },
      "source": [
        "# Média, max, min, desvio padrão\n",
        "\n",
        "print('inflamação média:', data.mean()) # calcula e retorna a média de todos os dados\n",
        "print('inflamação máxima:', data.max()) # retorna o maior valor\n",
        "print('inflamação mínima:', data.min()) # retorna o menor valor\n",
        "print('desvio padrão:', data.std()) # retorna o desvio padrão"
      ],
      "execution_count": 0,
      "outputs": []
    },
    {
      "cell_type": "code",
      "metadata": {
        "id": "lxFI1Fxgguds",
        "colab_type": "code",
        "colab": {}
      },
      "source": [
        "# Inflamação maxima de um único paciente\n",
        "\n",
        "paciente_0 = data[0, :] #  pegar na linha 0 todas as colunas\n",
        "print ('Inflamação máxima do paciente 0:', paciente_0.max())\n",
        "\n",
        "# Especificando o eixo (0 = rows / 1 = cols)\n",
        "# inflamação média por paciente em todos os dias.\n",
        "print (data.mean(axis=1))"
      ],
      "execution_count": 0,
      "outputs": []
    },
    {
      "cell_type": "code",
      "metadata": {
        "id": "hdMkxEbChdZu",
        "colab_type": "code",
        "colab": {}
      },
      "source": [
        "# # utilizando np.where\n",
        "novo_data = np.where(data > 0, data, 8) # se array for maior que 0, não faça nada, caso contrário substitua o valor por 8\n",
        "print(novo_data)"
      ],
      "execution_count": 0,
      "outputs": []
    }
  ]
}